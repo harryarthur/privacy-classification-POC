{
 "cells": [
  {
   "cell_type": "markdown",
   "id": "8f9c6602-5c57-497c-8420-d33ddaea7850",
   "metadata": {},
   "source": [
    "# **Bob's workstation. (Receiver)**"
   ]
  },
  {
   "cell_type": "markdown",
   "id": "17cbaf0f-6e44-462e-8799-cedd5504775f",
   "metadata": {},
   "source": [
    "Bob is only cleared up to unclassified, and will not be able to decipher anything higher."
   ]
  },
  {
   "cell_type": "code",
   "execution_count": 12,
   "id": "beab2ba0-87fb-401a-83f4-386c209cffec",
   "metadata": {},
   "outputs": [],
   "source": [
    "import requests\n",
    "#bob has no keys"
   ]
  },
  {
   "cell_type": "markdown",
   "id": "30622e8c-bbcc-41d9-8c2c-b6330921fad2",
   "metadata": {},
   "source": [
    "## Read Unclassified message."
   ]
  },
  {
   "cell_type": "code",
   "execution_count": 13,
   "id": "8a4aa698-3229-4cf5-91ab-41f6d85644a4",
   "metadata": {},
   "outputs": [
    {
     "name": "stdout",
     "output_type": "stream",
     "text": [
      "You have received an unclassified message\n",
      "Go grocery shopping\n"
     ]
    }
   ],
   "source": [
    "url = 'http://localhost:5000/get_messages'\n",
    "\n",
    "# Send GET request to the server and store the response\n",
    "response = requests.get(url, timeout=10)\n",
    "\n",
    "# Check if the response status code indicates success (200)\n",
    "if response.status_code == 200:\n",
    "    # Extract JSON data from the response\n",
    "    messages = response.json()\n",
    "\n",
    "    # Process each message in the response\n",
    "    for message in messages:\n",
    "        if message.get('Classification') == 'Unclassified':\n",
    "            print('You have received an unclassified message')\n",
    "            print(message['content'])\n",
    "            break  # Exit the loop after printing the message for Bob\n",
    "        else:\n",
    "            print(\"You are not authorized to view this message\")\n",
    "            break\n",
    "else:\n",
    "    # Print an error message if the request was not successful\n",
    "    print(\"Error: Failed to fetch messages. Status code:\", response.status_code)\n"
   ]
  },
  {
   "cell_type": "markdown",
   "id": "a256eb22-8aca-4bc3-bd70-b4c8cc8c68da",
   "metadata": {},
   "source": [
    "## Read Protected message."
   ]
  },
  {
   "cell_type": "markdown",
   "id": "ee68b837-ef1b-4a2e-ac59-40a5f752472a",
   "metadata": {},
   "source": [
    "Bob is not cleared to read this message, and does not have access to the \"key\"."
   ]
  },
  {
   "cell_type": "code",
   "execution_count": 14,
   "id": "ad031e43-2123-4d6e-97e4-accc804c54f6",
   "metadata": {},
   "outputs": [
    {
     "name": "stdout",
     "output_type": "stream",
     "text": [
      "You are not authorized to view this message\n"
     ]
    }
   ],
   "source": [
    "url = 'http://localhost:5001/get_messages'\n",
    "\n",
    "# Send GET request to the server and store the response\n",
    "response = requests.get(url, timeout=10)\n",
    "\n",
    "# Check if the response status code indicates success (200)\n",
    "if response.status_code == 200:\n",
    "    # Extract JSON data from the response\n",
    "    messages = response.json()\n",
    "\n",
    "    # Process each message in the response\n",
    "    for message in messages:\n",
    "        if message.get('Classification') == 'Protected':\n",
    "            print(\"You are not authorized to view this message\") #if the message were printed, it would be unreadable for Bob\n",
    "            break\n",
    "else:\n",
    "    # Print an error message if the request was not successful\n",
    "    print(\"Error: Failed to fetch messages. Status code:\", response.status_code)"
   ]
  },
  {
   "cell_type": "markdown",
   "id": "bdcacf78-7a51-4748-ab7c-d966508774a5",
   "metadata": {},
   "source": [
    "## Read Secret message."
   ]
  },
  {
   "cell_type": "markdown",
   "id": "b62599fd-c622-43ca-932e-e143bc5f1d05",
   "metadata": {},
   "source": [
    "Bob is not cleared to read this secret message either."
   ]
  },
  {
   "cell_type": "code",
   "execution_count": 15,
   "id": "1341720e-dfab-4801-acec-2c50fdb21f78",
   "metadata": {},
   "outputs": [
    {
     "name": "stdout",
     "output_type": "stream",
     "text": [
      "You are not authorized to view this message\n"
     ]
    }
   ],
   "source": [
    "url = 'http://localhost:5002/get_messages'\n",
    "\n",
    "# Send GET request to the server and store the response\n",
    "response = requests.get(url, timeout=10)\n",
    "\n",
    "# Check if the response status code indicates success (200)\n",
    "if response.status_code == 200:\n",
    "    # Extract JSON data from the response\n",
    "    messages = response.json()\n",
    "\n",
    "    # Process each message in the response\n",
    "    for message in messages:\n",
    "        if message.get('Classification') == 'Secret':\n",
    "            print(\"You are not authorized to view this message\") #if the message were printed, it would be unreadable for Bob\n",
    "            break\n",
    "else:\n",
    "    # Print an error message if the request was not successful\n",
    "    print(\"Error: Failed to fetch messages. Status code:\", response.status_code)"
   ]
  }
 ],
 "metadata": {
  "kernelspec": {
   "display_name": "Python 3",
   "language": "python",
   "name": "python3"
  },
  "language_info": {
   "codemirror_mode": {
    "name": "ipython",
    "version": 3
   },
   "file_extension": ".py",
   "mimetype": "text/x-python",
   "name": "python",
   "nbconvert_exporter": "python",
   "pygments_lexer": "ipython3",
   "version": "3.9.1"
  }
 },
 "nbformat": 4,
 "nbformat_minor": 5
}
