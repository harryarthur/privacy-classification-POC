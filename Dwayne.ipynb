{
 "cells": [
  {
   "cell_type": "markdown",
   "id": "35baaf7b-f6b7-4331-8004-d1c43f02b141",
   "metadata": {},
   "source": [
    "# **Dwayne's workstation. (Receiver)**"
   ]
  },
  {
   "cell_type": "markdown",
   "id": "637f9d21-315d-4d0e-829e-ab66ee33d6ef",
   "metadata": {},
   "source": [
    "Dwayne is cleared up to Secret. He possesses all \"keys\", and can read anything sent to him."
   ]
  },
  {
   "cell_type": "code",
   "execution_count": 1,
   "id": "1a11193d-b918-40ae-8d15-49e5fc6ad4e5",
   "metadata": {},
   "outputs": [],
   "source": [
    "import requests\n",
    "#Dwayne has both the protected and secret keys\n",
    "ProtectedKey = 3\n",
    "SecretKey = 4"
   ]
  },
  {
   "cell_type": "markdown",
   "id": "b7daefae-1425-4998-b0dc-f67822781feb",
   "metadata": {},
   "source": [
    "## Read Unclassified message."
   ]
  },
  {
   "cell_type": "code",
   "execution_count": 9,
   "id": "96fe038f-d6f0-445e-a1ec-b404a071a811",
   "metadata": {},
   "outputs": [
    {
     "name": "stdout",
     "output_type": "stream",
     "text": [
      "You recieved an unclassified message\n",
      "Go grocery shopping\n"
     ]
    }
   ],
   "source": [
    "url = 'http://localhost:5000/get_messages'\n",
    "\n",
    "# Send GET request to the server and store the response\n",
    "response = requests.get(url, timeout=10)\n",
    "\n",
    "# Check if the response status code indicates success (200)\n",
    "if response.status_code == 200:\n",
    "    # Extract JSON data from the response\n",
    "    messages = response.json()\n",
    "\n",
    "    # Process each message in the response\n",
    "    for message in messages:\n",
    "        if message.get('Classification') == 'Unclassified':\n",
    "            print(\"You recieved an unclassified message\")\n",
    "            print(message['content'])\n",
    "            break  # Exit the loop after printing the message for Charles\n",
    "else:\n",
    "    # Print an error message if the request was not successful\n",
    "    print(\"Error: Failed to fetch messages. Status code:\", response.status_code)"
   ]
  },
  {
   "cell_type": "markdown",
   "id": "2f5cf8d1-136a-4b2f-a167-65b4a6492143",
   "metadata": {},
   "source": [
    "## Read Protected message."
   ]
  },
  {
   "cell_type": "code",
   "execution_count": 10,
   "id": "c671973d-ba5b-44fe-b309-739602aefeff",
   "metadata": {},
   "outputs": [
    {
     "name": "stdout",
     "output_type": "stream",
     "text": [
      "You recieved a protected message\n",
      "Go to Coles\n"
     ]
    }
   ],
   "source": [
    "url = 'http://localhost:5001/get_messages'\n",
    "response = requests.get(url, timeout=10)\n",
    "messages = response.json()\n",
    "\n",
    "#this function simulates the decryption process\n",
    "for message in messages:\n",
    "    if message.get('Classification') == 'Protected':\n",
    "        content = ''.join([chr(ord(c) - ProtectedKey) for c in message['content']])\n",
    "        print(\"You recieved a protected message\")\n",
    "        print(content)\n",
    "        break\n"
   ]
  },
  {
   "cell_type": "markdown",
   "id": "6bbe1c7c-c52b-4d1b-a4d1-de746eac1aa4",
   "metadata": {},
   "source": [
    "## Read Secret message."
   ]
  },
  {
   "cell_type": "code",
   "execution_count": 11,
   "id": "b1fa45bc-7721-4bd1-825c-8b8b5eccc92d",
   "metadata": {},
   "outputs": [
    {
     "name": "stdout",
     "output_type": "stream",
     "text": [
      "You recieved a secret message\n",
      "Buy milk and honey\n"
     ]
    }
   ],
   "source": [
    "url = 'http://localhost:5002/get_messages'\n",
    "\n",
    "response = requests.get(url, timeout=10)\n",
    "messages = response.json()\n",
    "\n",
    "#this function simulates the double decryption process\n",
    "for message in messages:\n",
    "    if message.get('Classification') == 'Secret':\n",
    "        content = ''.join([chr(ord(c) - (SecretKey + ProtectedKey)) for c in message['content']])\n",
    "        print(\"You recieved a secret message\")\n",
    "        print(content)\n",
    "        break"
   ]
  },
  {
   "cell_type": "code",
   "execution_count": null,
   "id": "ccbb1dd4-77be-4ac8-b5ad-09a547249013",
   "metadata": {},
   "outputs": [],
   "source": []
  },
  {
   "cell_type": "code",
   "execution_count": null,
   "id": "b85a149f-964a-4b64-a71c-ab80ca831c2b",
   "metadata": {},
   "outputs": [],
   "source": []
  }
 ],
 "metadata": {
  "kernelspec": {
   "display_name": "Python 3",
   "language": "python",
   "name": "python3"
  },
  "language_info": {
   "codemirror_mode": {
    "name": "ipython",
    "version": 3
   },
   "file_extension": ".py",
   "mimetype": "text/x-python",
   "name": "python",
   "nbconvert_exporter": "python",
   "pygments_lexer": "ipython3",
   "version": "3.9.1"
  }
 },
 "nbformat": 4,
 "nbformat_minor": 5
}
