{
 "cells": [
  {
   "cell_type": "markdown",
   "id": "5d8a3be4-9936-49bf-977b-1961ffaa4383",
   "metadata": {},
   "source": [
    "# **Charles's workstation. (Receiver)**"
   ]
  },
  {
   "cell_type": "markdown",
   "id": "55709723-a718-4d4b-a218-bfede6693afe",
   "metadata": {},
   "source": [
    "Charles is cleared up to Protected. This means he will be able to read Unclassified and Protected messages. He will not be able to read Secret messages."
   ]
  },
  {
   "cell_type": "code",
   "execution_count": 2,
   "id": "97937e14-eda6-4d1f-bc85-67b318283d2c",
   "metadata": {},
   "outputs": [],
   "source": [
    "import requests\n",
    "ProtectedKey = 3 #key for decrypted protected message. Charles only has this key, and not the secret key"
   ]
  },
  {
   "cell_type": "markdown",
   "id": "fbcb595d-1e50-4281-92a4-c9db56bf5832",
   "metadata": {},
   "source": [
    "## Read Unclassified message."
   ]
  },
  {
   "cell_type": "code",
   "execution_count": 10,
   "id": "4054fdb8-77bf-4ae4-a1ee-7924c6ec5554",
   "metadata": {},
   "outputs": [
    {
     "name": "stdout",
     "output_type": "stream",
     "text": [
      "You have received an unclassified message\n",
      "Go grocery shopping\n"
     ]
    }
   ],
   "source": [
    "url = 'http://localhost:5000/get_messages'\n",
    "\n",
    "# Send GET request to the server and store the response\n",
    "response = requests.get(url, timeout=10)\n",
    "\n",
    "# Check if the response status code indicates success (200)\n",
    "if response.status_code == 200:\n",
    "    # Extract JSON data from the response\n",
    "    messages = response.json()\n",
    "\n",
    "    # Process each message in the response\n",
    "    for message in messages:\n",
    "        if message.get('Classification') == 'Unclassified':\n",
    "            print('You have received an unclassified message')\n",
    "            print(message['content'])\n",
    "            break  # Exit the loop after printing the message for Charles\n",
    "else:\n",
    "    # Print an error message if the request was not successful\n",
    "    print(\"Error: Failed to fetch messages. Status code:\", response.status_code)"
   ]
  },
  {
   "cell_type": "markdown",
   "id": "e409ffb1-d520-4ca4-bc41-e46d54087827",
   "metadata": {},
   "source": [
    "## Read Protected message."
   ]
  },
  {
   "cell_type": "code",
   "execution_count": 11,
   "id": "8ed73e12-6e7b-4d57-9ed4-06f0e350dbb3",
   "metadata": {},
   "outputs": [
    {
     "name": "stdout",
     "output_type": "stream",
     "text": [
      "You recieved a protected message\n",
      "Go to Coles\n"
     ]
    }
   ],
   "source": [
    "url = 'http://localhost:5001/get_messages'\n",
    "\n",
    "response = requests.get(url, timeout=10)\n",
    "messages = response.json()\n",
    "\n",
    "#this function simulates the decryption process\n",
    "for message in messages:\n",
    "    if message.get('Classification') == 'Protected':\n",
    "        content = ''.join([chr(ord(c) - ProtectedKey) for c in message['content']])\n",
    "        print(\"You recieved a protected message\")\n",
    "        print(content)\n",
    "        break\n"
   ]
  },
  {
   "cell_type": "markdown",
   "id": "94d30e9f-d03d-45ff-be06-86a912351f81",
   "metadata": {},
   "source": [
    "## Read Secret message."
   ]
  },
  {
   "cell_type": "code",
   "execution_count": 12,
   "id": "59cb95c5-ea3f-4316-a9b0-8b7f0391c330",
   "metadata": {},
   "outputs": [
    {
     "name": "stdout",
     "output_type": "stream",
     "text": [
      "You are not authorised to view this message\n"
     ]
    }
   ],
   "source": [
    "url = 'http://localhost:5002/get_messages'\n",
    "\n",
    "response = requests.get(url, timeout=10)\n",
    "messages = response.json()\n",
    "\n",
    "for message in messages:\n",
    "    if message.get('Classification') == 'Secret':\n",
    "        print(\"You are not authorised to view this message\")\n",
    "        break"
   ]
  },
  {
   "cell_type": "code",
   "execution_count": null,
   "id": "6688b326-38e9-4709-b61b-24307bfc4259",
   "metadata": {},
   "outputs": [],
   "source": []
  }
 ],
 "metadata": {
  "kernelspec": {
   "display_name": "Python 3",
   "language": "python",
   "name": "python3"
  },
  "language_info": {
   "codemirror_mode": {
    "name": "ipython",
    "version": 3
   },
   "file_extension": ".py",
   "mimetype": "text/x-python",
   "name": "python",
   "nbconvert_exporter": "python",
   "pygments_lexer": "ipython3",
   "version": "3.9.1"
  }
 },
 "nbformat": 4,
 "nbformat_minor": 5
}
