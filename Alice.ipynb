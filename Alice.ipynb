{
 "cells": [
  {
   "cell_type": "markdown",
   "id": "c4f606f9-e12e-45d7-91b8-c4d5969c9212",
   "metadata": {},
   "source": [
    "# **Alice's workstation. (Sender)**"
   ]
  },
  {
   "cell_type": "code",
   "execution_count": 10,
   "id": "d60e4178-66a7-4b88-b085-52eb3c13e074",
   "metadata": {},
   "outputs": [],
   "source": [
    "#import necesarry libraries\n",
    "import requests\n",
    "import json\n",
    "\n",
    "# Function to send message to a server, any classification\n",
    "def send_message(content, classification, server_url):\n",
    "    message = {\"content\": content, \"Classification\": classification}\n",
    "    response = requests.post(server_url + '/receive', json=message)\n",
    "    print(response.text)"
   ]
  },
  {
   "cell_type": "markdown",
   "id": "56ca42e4-589d-499a-8deb-b0633e57f547",
   "metadata": {},
   "source": [
    "## Send Unclassified Message."
   ]
  },
  {
   "cell_type": "markdown",
   "id": "2360b07f-eb12-4c76-bd3e-e1c43973764a",
   "metadata": {},
   "source": [
    "This message is readable by all recipients and is not encrypted."
   ]
  },
  {
   "cell_type": "code",
   "execution_count": 11,
   "id": "6854d989-3335-4f57-b7ef-573ce3205ce6",
   "metadata": {},
   "outputs": [
    {
     "name": "stdout",
     "output_type": "stream",
     "text": [
      "Message processed successfully at Unclassified Server\n"
     ]
    }
   ],
   "source": [
    "# Send Unclassified message to Unclassified server.\n",
    "send_message(\"Go grocery shopping\", \"Unclassified\", \"http://localhost:5000\")\n"
   ]
  },
  {
   "cell_type": "markdown",
   "id": "bf9d7f90-f49c-4fc8-80f3-9941aa5e28ce",
   "metadata": {},
   "source": [
    "## Send Protected Message."
   ]
  },
  {
   "cell_type": "markdown",
   "id": "0ae5c9fe-6188-454b-8a86-a890a9b537b3",
   "metadata": {},
   "source": [
    "This message is only readable by Charles and Dwayne, as they have the appropriate clearances."
   ]
  },
  {
   "cell_type": "code",
   "execution_count": 12,
   "id": "83a90153-c329-4ce2-9a46-ecaab4913e88",
   "metadata": {},
   "outputs": [
    {
     "name": "stdout",
     "output_type": "stream",
     "text": [
      "Message processed successfully at Unclassified Server\n"
     ]
    }
   ],
   "source": [
    "# Send Protected message to unclassified server.\n",
    "send_message(\"Go to Coles\", \"Protected\", \"http://localhost:5000\")"
   ]
  },
  {
   "cell_type": "markdown",
   "id": "d92b2a17-bf1b-4113-8165-ec5e385a1855",
   "metadata": {},
   "source": [
    "## Send Secret Message."
   ]
  },
  {
   "cell_type": "markdown",
   "id": "4d119f28-4098-47bb-b198-295906154224",
   "metadata": {},
   "source": [
    "This message is only readable by Charles, as he has the appropriate clearance."
   ]
  },
  {
   "cell_type": "code",
   "execution_count": 13,
   "id": "db45c720-41c9-45f2-9638-12cfeff15cda",
   "metadata": {},
   "outputs": [
    {
     "name": "stdout",
     "output_type": "stream",
     "text": [
      "Message processed successfully at Unclassified Server\n"
     ]
    }
   ],
   "source": [
    "# Secret message sent to unclassified server\n",
    "send_message(\"Buy milk and honey\", \"Secret\", \"http://localhost:5000\")"
   ]
  },
  {
   "cell_type": "code",
   "execution_count": null,
   "id": "040254ba-5c25-4141-857c-1e459f8df27b",
   "metadata": {},
   "outputs": [],
   "source": []
  },
  {
   "cell_type": "code",
   "execution_count": null,
   "id": "32a4f9cb-0165-49b1-93ae-747f14744e8a",
   "metadata": {},
   "outputs": [],
   "source": []
  }
 ],
 "metadata": {
  "kernelspec": {
   "display_name": "Python 3",
   "language": "python",
   "name": "python3"
  },
  "language_info": {
   "codemirror_mode": {
    "name": "ipython",
    "version": 3
   },
   "file_extension": ".py",
   "mimetype": "text/x-python",
   "name": "python",
   "nbconvert_exporter": "python",
   "pygments_lexer": "ipython3",
   "version": "3.9.1"
  }
 },
 "nbformat": 4,
 "nbformat_minor": 5
}
